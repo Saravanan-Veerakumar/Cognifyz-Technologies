{
 "cells": [
  {
   "cell_type": "markdown",
   "id": "d71a1d6a",
   "metadata": {},
   "source": [
    "## String Reversal"
   ]
  },
  {
   "cell_type": "code",
   "execution_count": 16,
   "id": "ef85e4b8",
   "metadata": {
    "ExecuteTime": {
     "end_time": "2024-09-04T05:47:38.488387Z",
     "start_time": "2024-09-04T05:47:36.736785Z"
    }
   },
   "outputs": [
    {
     "name": "stdout",
     "output_type": "stream",
     "text": [
      "Enter the input string:apple\n",
      "The reversed string is: elppa\n"
     ]
    }
   ],
   "source": [
    "def string_reversal(input_str):\n",
    "    Reversed_string=input_str[::-1]\n",
    "    return Reversed_string\n",
    "input_str=input(\"Enter the input string:\")\n",
    "op_string=string_reversal(input_str)\n",
    "print('The reversed string is:',op_string)"
   ]
  },
  {
   "cell_type": "markdown",
   "id": "40b81594",
   "metadata": {},
   "source": [
    "## Temperature Conversion"
   ]
  },
  {
   "cell_type": "code",
   "execution_count": 27,
   "id": "dc0e5416",
   "metadata": {
    "ExecuteTime": {
     "end_time": "2024-09-04T06:37:24.035560Z",
     "start_time": "2024-09-04T06:37:19.746488Z"
    }
   },
   "outputs": [
    {
     "name": "stdout",
     "output_type": "stream",
     "text": [
      "Enter the temperature value:65\n",
      "Enter #1 for Fahrenheit to Celsius Conversion or Enter #2 for Celsius to Fahrenheit Conversion1\n",
      "Celsius Value is: 4.111111111111114\n"
     ]
    }
   ],
   "source": [
    "Temperature=int(input(\"Enter the temperature value:\"))\n",
    "Type=int(input('Enter #1 for Fahrenheit to Celsius Conversion or Enter #2 for Celsius to Fahrenheit Conversion'))\n",
    "if Type==1:\n",
    "    C=((5/9)*Temperature)-32\n",
    "    print('Celsius Value is:',C)\n",
    "elif Type==2:\n",
    "    F=((9/5)*Temperature)+32\n",
    "    print('Fahrenheit Value is:',F)\n",
    "else: print('Your choice is invalid')"
   ]
  },
  {
   "cell_type": "markdown",
   "id": "96c79fd6",
   "metadata": {},
   "source": [
    "## Email Validator"
   ]
  },
  {
   "cell_type": "code",
   "execution_count": 4,
   "id": "39dd17b3",
   "metadata": {
    "ExecuteTime": {
     "end_time": "2024-09-05T05:51:42.693900Z",
     "start_time": "2024-09-05T05:51:36.376608Z"
    }
   },
   "outputs": [
    {
     "name": "stdout",
     "output_type": "stream",
     "text": [
      "Enter the email:saravananv1925@gmail.com\n",
      "Valid email\n"
     ]
    }
   ],
   "source": [
    "import re\n",
    "regex = r'\\b[A-Za-z0-9._%+-]+@[A-Za-z0-9.-]+\\.[A-Z|a-z]{2,7}\\b'\n",
    "def check(email):\n",
    "    if (re.fullmatch(regex,email)):\n",
    "        print('Valid email')\n",
    "    else:\n",
    "        print('Invalid email')\n",
    "email=input(\"Enter the email:\")\n",
    "check(email)"
   ]
  },
  {
   "cell_type": "markdown",
   "id": "ecbb0575",
   "metadata": {},
   "source": [
    "## Calculator Program"
   ]
  },
  {
   "cell_type": "code",
   "execution_count": 10,
   "id": "2a07a777",
   "metadata": {
    "ExecuteTime": {
     "end_time": "2024-09-08T12:21:21.901260Z",
     "start_time": "2024-09-08T12:21:16.063554Z"
    }
   },
   "outputs": [
    {
     "name": "stdout",
     "output_type": "stream",
     "text": [
      "Enter the 1st Value for calculation:15\n",
      "Enter the 2nd Value for calculation:25\n",
      "Enter 1 for addition (+)\n",
      "Enter 2 for subtraction(-)\n",
      "Enter 3 for Multiplication(*)\n",
      "Enter 4 for division(/)\n",
      "Enter 5 for modulus(%)\n",
      "Enter the type of operation needs to be performed:6\n",
      "Invalid response, Please enter your choices between 1 and 5\n"
     ]
    }
   ],
   "source": [
    "import sys\n",
    "try:\n",
    "    Num1=float(input('Enter the 1st Value for calculation:'))\n",
    "    Num2=float(input('Enter the 2nd Value for calculation:'))\n",
    "except ValueError:\n",
    "    print('Invalid input, Please enter only numeric values')\n",
    "    sys.exit()\n",
    "print('Enter 1 for addition (+)\\nEnter 2 for subtraction(-)\\nEnter 3 for Multiplication(*)\\nEnter 4 for division(/)\\nEnter 5 for modulus(%)')\n",
    "operation=int(input('Enter the type of operation needs to be performed:'))\n",
    "if operation==1:\n",
    "    print('Addition of two values is:',(Num1+Num2))\n",
    "elif operation==2:\n",
    "    print('Subtraction of two values is:',(Num1-Num2))\n",
    "elif operation==3:\n",
    "    print('Multiplication of two values is:',(Num1*Num2))\n",
    "elif operation==4:\n",
    "    if Num2 != 0:\n",
    "        print('Division of two values is:', (Num1 / Num2))\n",
    "    else:\n",
    "        print('Error: Division by zero is not allowed')\n",
    "elif operation==5:\n",
    "    if Num2 == 0:\n",
    "        print(\"Error: Modulus by zero is undefined.\")\n",
    "    else:\n",
    "        print('Modulus of two values is:', (Num1 % Num2))\n",
    "else: print('Invalid response, Please enter your choices between 1 and 5')"
   ]
  },
  {
   "cell_type": "markdown",
   "id": "694f32f5",
   "metadata": {},
   "source": [
    "## Palindrome Checker"
   ]
  },
  {
   "cell_type": "code",
   "execution_count": 20,
   "id": "b8a357d8",
   "metadata": {
    "ExecuteTime": {
     "end_time": "2024-09-08T12:33:29.939701Z",
     "start_time": "2024-09-08T12:33:21.817766Z"
    }
   },
   "outputs": [
    {
     "name": "stdout",
     "output_type": "stream",
     "text": [
      "Enter the input string:MaLaYaLaM\n",
      "The given string is palindrome\n"
     ]
    }
   ],
   "source": [
    "def palindrome_checker(str1):\n",
    "    if str1==str1[::-1]:\n",
    "        print(\"The given string is palindrome\")\n",
    "    else:\n",
    "        print('The given string is not palindrome')\n",
    "str1=input(\"Enter the input string:\")\n",
    "palindrome_checker(str1)"
   ]
  },
  {
   "cell_type": "code",
   "execution_count": null,
   "id": "3632e5c4",
   "metadata": {},
   "outputs": [],
   "source": []
  },
  {
   "cell_type": "code",
   "execution_count": null,
   "id": "17e8880a",
   "metadata": {},
   "outputs": [],
   "source": []
  }
 ],
 "metadata": {
  "kernelspec": {
   "display_name": "Python 3 (ipykernel)",
   "language": "python",
   "name": "python3"
  },
  "language_info": {
   "codemirror_mode": {
    "name": "ipython",
    "version": 3
   },
   "file_extension": ".py",
   "mimetype": "text/x-python",
   "name": "python",
   "nbconvert_exporter": "python",
   "pygments_lexer": "ipython3",
   "version": "3.11.5"
  },
  "toc": {
   "base_numbering": 1,
   "nav_menu": {},
   "number_sections": true,
   "sideBar": true,
   "skip_h1_title": false,
   "title_cell": "Table of Contents",
   "title_sidebar": "Contents",
   "toc_cell": false,
   "toc_position": {},
   "toc_section_display": true,
   "toc_window_display": false
  },
  "varInspector": {
   "cols": {
    "lenName": 16,
    "lenType": 16,
    "lenVar": 40
   },
   "kernels_config": {
    "python": {
     "delete_cmd_postfix": "",
     "delete_cmd_prefix": "del ",
     "library": "var_list.py",
     "varRefreshCmd": "print(var_dic_list())"
    },
    "r": {
     "delete_cmd_postfix": ") ",
     "delete_cmd_prefix": "rm(",
     "library": "var_list.r",
     "varRefreshCmd": "cat(var_dic_list()) "
    }
   },
   "types_to_exclude": [
    "module",
    "function",
    "builtin_function_or_method",
    "instance",
    "_Feature"
   ],
   "window_display": false
  }
 },
 "nbformat": 4,
 "nbformat_minor": 5
}
